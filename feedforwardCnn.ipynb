{
  "nbformat": 4,
  "nbformat_minor": 0,
  "metadata": {
    "colab": {
      "provenance": [],
      "authorship_tag": "ABX9TyOfaO4sVkNefI1h3fWgBVUO",
      "include_colab_link": true
    },
    "kernelspec": {
      "name": "python3",
      "display_name": "Python 3"
    },
    "language_info": {
      "name": "python"
    }
  },
  "cells": [
    {
      "cell_type": "markdown",
      "metadata": {
        "id": "view-in-github",
        "colab_type": "text"
      },
      "source": [
        "<a href=\"https://colab.research.google.com/github/Maruf-16203091/Feedforward-neural-network-MLP-/blob/main/feedforwardCnn.ipynb\" target=\"_parent\"><img src=\"https://colab.research.google.com/assets/colab-badge.svg\" alt=\"Open In Colab\"/></a>"
      ]
    },
    {
      "cell_type": "code",
      "execution_count": 1,
      "metadata": {
        "colab": {
          "base_uri": "https://localhost:8080/"
        },
        "id": "TqXiDQlq_Ka7",
        "outputId": "55d303a6-5211-43ed-8be6-e233ff9504c5"
      },
      "outputs": [
        {
          "output_type": "stream",
          "name": "stdout",
          "text": [
            "Mounted at /content/drive\n"
          ]
        }
      ],
      "source": [
        "import torch\n",
        "import pandas as pd\n",
        "from sklearn.model_selection import train_test_split\n",
        "from sklearn.preprocessing import StandardScaler\n",
        "from torch.utils.data import Dataset, DataLoader\n",
        "import torch.nn as nn\n",
        "import torch.optim as optim\n",
        "import matplotlib.pyplot as plt\n",
        "\n",
        "# Mount Google Drive\n",
        "from google.colab import drive\n",
        "drive.mount('/content/drive')\n"
      ]
    },
    {
      "cell_type": "code",
      "source": [
        "# Load your CSV file\n",
        "data_path = '/content/drive/MyDrive/ML_data/Iris.csv'\n",
        "df = pd.read_csv(data_path)\n",
        "\n",
        "# Split features and labels\n",
        "X = df.drop('Species', axis=1).values\n",
        "y = df['Species'].values\n"
      ],
      "metadata": {
        "id": "kAghOQgACVf0"
      },
      "execution_count": 14,
      "outputs": []
    },
    {
      "cell_type": "code",
      "source": [
        "le = LabelEncoder()\n",
        "df['Species'] = le.fit_transform(df['Species'])"
      ],
      "metadata": {
        "id": "j9N4wOtwMXET"
      },
      "execution_count": 19,
      "outputs": []
    },
    {
      "cell_type": "code",
      "source": [
        "# Normalize features\n",
        "scaler = StandardScaler()\n",
        "X = scaler.fit_transform(X)\n",
        "\n",
        "# Train-test split\n",
        "X_train, X_test, y_train, y_test = train_test_split(X, y, test_size=0.2, random_state=42)\n"
      ],
      "metadata": {
        "id": "mT0Fxf27JP4Y"
      },
      "execution_count": 20,
      "outputs": []
    },
    {
      "cell_type": "code",
      "source": [
        "class MyDataset(Dataset):\n",
        "    def __init__(self, X, y):\n",
        "        self.X = torch.tensor(X, dtype=torch.float32)\n",
        "        self.y = torch.tensor(y, dtype=torch.long)  # long for classification\n",
        "\n",
        "    def __len__(self):\n",
        "        return len(self.X)\n",
        "\n",
        "    def __getitem__(self, idx):\n",
        "        return self.X[idx], self.y[idx]\n",
        "\n",
        "# Create loaders\n",
        "train_dataset = MyDataset(X_train, y_train)\n",
        "test_dataset = MyDataset(X_test, y_test)\n",
        "\n",
        "train_loader = DataLoader(train_dataset, batch_size=32, shuffle=True)\n",
        "test_loader = DataLoader(test_dataset, batch_size=32)\n"
      ],
      "metadata": {
        "id": "-Q0tl28mKC7J"
      },
      "execution_count": 21,
      "outputs": []
    },
    {
      "cell_type": "code",
      "source": [
        "class SimpleNN(nn.Module):\n",
        "    def __init__(self, input_size, hidden_size, num_classes):\n",
        "        super(SimpleNN, self).__init__()\n",
        "        self.fc1 = nn.Linear(input_size, hidden_size)   # Input → Hidden\n",
        "        self.relu = nn.ReLU()                           # Activation\n",
        "        self.fc2 = nn.Linear(hidden_size, num_classes)  # Hidden → Output\n",
        "\n",
        "    def forward(self, x):\n",
        "        out = self.fc1(x)\n",
        "        out = self.relu(out)\n",
        "        out = self.fc2(out)\n",
        "        return out\n"
      ],
      "metadata": {
        "id": "CIDTThJSMec5"
      },
      "execution_count": 28,
      "outputs": []
    },
    {
      "cell_type": "code",
      "source": [
        "input_size = X.shape[1]\n",
        "hidden_size = 16\n",
        "num_classes = len(set(y))  # number of output classes\n",
        "\n",
        "model = SimpleNN(input_size, hidden_size, num_classes)\n"
      ],
      "metadata": {
        "id": "FtVE3V9zRBND"
      },
      "execution_count": 29,
      "outputs": []
    },
    {
      "cell_type": "code",
      "source": [
        "criterion = nn.CrossEntropyLoss()  # good for classification\n",
        "optimizer = optim.Adam(model.parameters(), lr=0.01)\n"
      ],
      "metadata": {
        "id": "z0AdWoamTQmX"
      },
      "execution_count": 33,
      "outputs": []
    },
    {
      "cell_type": "code",
      "source": [
        "num_epochs = 20\n",
        "\n",
        "for epoch in range(num_epochs):\n",
        "    model.train()\n",
        "    total_loss = 0\n",
        "\n",
        "    for inputs, labels in train_loader:\n",
        "        outputs = model(inputs)            # forward pass\n",
        "        loss = criterion(outputs, labels)  # compute loss\n",
        "\n",
        "        optimizer.zero_grad()              # clear previous gradients\n",
        "        loss.backward()                    # backpropagation\n",
        "        optimizer.step()                   # update weights\n",
        "\n",
        "        total_loss += loss.item()\n",
        "\n",
        "    print(f\"Epoch [{epoch+1}/{num_epochs}], Loss: {total_loss/len(train_loader):.4f}\")\n"
      ],
      "metadata": {
        "colab": {
          "base_uri": "https://localhost:8080/"
        },
        "id": "_KVeH2B5SWje",
        "outputId": "016efbcb-399a-425b-e893-3b39e7491734"
      },
      "execution_count": 34,
      "outputs": [
        {
          "output_type": "stream",
          "name": "stdout",
          "text": [
            "Epoch [1/20], Loss: 1.0248\n",
            "Epoch [2/20], Loss: 0.8647\n",
            "Epoch [3/20], Loss: 0.7124\n",
            "Epoch [4/20], Loss: 0.5715\n",
            "Epoch [5/20], Loss: 0.4750\n",
            "Epoch [6/20], Loss: 0.4072\n",
            "Epoch [7/20], Loss: 0.3558\n",
            "Epoch [8/20], Loss: 0.2994\n",
            "Epoch [9/20], Loss: 0.2656\n",
            "Epoch [10/20], Loss: 0.2253\n",
            "Epoch [11/20], Loss: 0.1887\n",
            "Epoch [12/20], Loss: 0.1560\n",
            "Epoch [13/20], Loss: 0.1306\n",
            "Epoch [14/20], Loss: 0.1110\n",
            "Epoch [15/20], Loss: 0.0892\n",
            "Epoch [16/20], Loss: 0.0784\n",
            "Epoch [17/20], Loss: 0.0688\n",
            "Epoch [18/20], Loss: 0.0584\n",
            "Epoch [19/20], Loss: 0.0514\n",
            "Epoch [20/20], Loss: 0.0450\n"
          ]
        }
      ]
    },
    {
      "cell_type": "code",
      "source": [
        "model.eval()\n",
        "correct = 0\n",
        "total = 0\n",
        "\n",
        "with torch.no_grad():\n",
        "    for inputs, labels in test_loader:\n",
        "        outputs = model(inputs)\n",
        "        _, predicted = torch.max(outputs.data, 1)\n",
        "        total += labels.size(0)\n",
        "        correct += (predicted == labels).sum().item()\n",
        "\n",
        "print(f\"Accuracy: {100 * correct / total:.2f}%\")\n"
      ],
      "metadata": {
        "colab": {
          "base_uri": "https://localhost:8080/"
        },
        "id": "oBzZFEoFTYmj",
        "outputId": "8756740a-74ae-4e3f-cb2b-34d283a448ab"
      },
      "execution_count": 35,
      "outputs": [
        {
          "output_type": "stream",
          "name": "stdout",
          "text": [
            "Accuracy: 100.00%\n"
          ]
        }
      ]
    }
  ]
}